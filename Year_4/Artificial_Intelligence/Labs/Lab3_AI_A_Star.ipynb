{
 "cells": [
  {
   "cell_type": "markdown",
   "metadata": {},
   "source": [
    "# Artificial Intelligence - Fall 2024 - Laboratory 03 : State-Space Search"
   ]
  },
  {
   "cell_type": "markdown",
   "metadata": {},
   "source": [
    "## Introduction\n",
    "\n",
    "State-space search or pathfinding requires a sequence of actions in the space of states \\begin{equation*} s_{0} \\mapsto s_{f} \\end{equation*} which can be:\n",
    "* explored, \n",
    "* discovered(frontier), \n",
    "* unexplored.\n",
    "\n",
    "**A\\*** is the most widespread option for this type of problems in AI: the algorithm finds the shortest path and uses a heuristic to guide itself."
   ]
  },
  {
   "cell_type": "markdown",
   "metadata": {},
   "source": [
    "## Today's Challenge\n",
    "\n",
    "Given a bidimensional map with various obstacles, find the shortest path between two positions within it.\n",
    "\n",
    "_Note:_ The **labyrinth** variable will play the role of the bidimensional map."
   ]
  },
  {
   "cell_type": "code",
   "execution_count": 252,
   "metadata": {},
   "outputs": [
    {
     "data": {
      "image/png": "[encoded data removed]",
      "text/plain": [
       "<Figure size 640x480 with 1 Axes>"
      ]
     },
     "metadata": {},
     "output_type": "display_data"
    }
   ],
   "source": [
    "# Dimensions of the map.\n",
    "height = 10\n",
    "width = 20\n",
    "\n",
    "# Bidimensional map as a list of lists.\n",
    "# The empty cells are marked with 0, while blocks of walls with 1.\n",
    "labyrinth = [[0 for c in range(width)] for r in range(height)]\n",
    "\n",
    "for r in range(2, 7):\n",
    "    labyrinth[r][6] = 1\n",
    "    labyrinth[6][r] = 1\n",
    "labyrinth[2][7] = 1\n",
    "\n",
    "# Display labyrinth\n",
    "%matplotlib inline\n",
    "import matplotlib.pyplot as pyplot\n",
    "pyplot.imshow(labyrinth, cmap='Greys', interpolation='nearest');"
   ]
  },
  {
   "cell_type": "markdown",
   "metadata": {},
   "source": [
    "## Advanced functions\n",
    "\n",
    "To simplify the iteration process, we can use: \n",
    "\n",
    "* `lambda`, the anonymous function which always returns an expression and has the following syntax:\n",
    "\n",
    "```python\n",
    "    lambda arguments: expression\n",
    "```"
   ]
  },
  {
   "cell_type": "code",
   "execution_count": 253,
   "metadata": {},
   "outputs": [],
   "source": [
    "# For this problem, we want to find the path \n",
    "# from the start point\n",
    "\n",
    "start = (5, 5)\n",
    "\n",
    "# to the end point.\n",
    "final = (8, 8)\n",
    "\n",
    "# Let us verify if having a list of tuples,\n",
    "# their position corresponds to the endpoint.\n",
    "\n",
    "# First, the lambda function:\n",
    "is_final = lambda position: position == final"
   ]
  },
  {
   "cell_type": "markdown",
   "metadata": {},
   "source": [
    "Lambda plays the role of an input argument in other functions, such as:\n",
    "\n",
    "* `map`, which passes each element of the given iterable to a function:\n",
    "\n",
    "```python\n",
    "    map(function, iterable)\n",
    "```"
   ]
  },
  {
   "cell_type": "code",
   "execution_count": 254,
   "metadata": {},
   "outputs": [
    {
     "data": {
      "text/plain": [
       "[False, False, True]"
      ]
     },
     "execution_count": 254,
     "metadata": {},
     "output_type": "execute_result"
    }
   ],
   "source": [
    "# Second, the map function:\n",
    "list(map(is_final, [(1,1), (3, 6), (8, 8)]))"
   ]
  },
  {
   "cell_type": "markdown",
   "metadata": {},
   "source": [
    "* `filter` can easily select the values from a sequence with a certain property:\n",
    "\n",
    "```python\n",
    "    filter(function, sequence)\n",
    "```"
   ]
  },
  {
   "cell_type": "code",
   "execution_count": 255,
   "metadata": {},
   "outputs": [
    {
     "data": {
      "text/plain": [
       "[(8, 8)]"
      ]
     },
     "execution_count": 255,
     "metadata": {},
     "output_type": "execute_result"
    }
   ],
   "source": [
    "list(filter(is_final, [(1,1), (3, 6), (8, 8)]))"
   ]
  },
  {
   "cell_type": "markdown",
   "metadata": {},
   "source": [
    "## The A* algorithm\n",
    "\n",
    "With the help of the following tasks, create the building blocks of the algorithm."
   ]
  },
  {
   "cell_type": "markdown",
   "metadata": {},
   "source": [
    "### Task 0\n",
    "\n",
    "**a.** Given a certain position represented by a `tuple`, find if its location is valid.\n",
    "\n",
    "While exploring the bidirectional map, be careful to:\n",
    "\n",
    "* check if the available coordinates are inside the plane (0-height, 0-width),\n",
    "* verify if the position is free and not occupied by an obstacle."
   ]
  },
  {
   "cell_type": "code",
   "execution_count": 256,
   "metadata": {},
   "outputs": [],
   "source": [
    "def verify_location(position):\n",
    "    # extract coordinates\n",
    "    x, y = position\n",
    "    # out of bounds check\n",
    "    if x >= height or y >= width or x < 0 or y < 0:\n",
    "        return False\n",
    "    # check if the position is free\n",
    "    return labyrinth[x][y] == 0\n"
   ]
  },
  {
   "cell_type": "code",
   "execution_count": 257,
   "metadata": {},
   "outputs": [
    {
     "data": {
      "text/plain": [
       "[False, False, False, True, False, True]"
      ]
     },
     "execution_count": 257,
     "metadata": {},
     "output_type": "execute_result"
    }
   ],
   "source": [
    "list(map(verify_location, [(-1,2), (height,3), (width,4), (5,5), (6,6), (0,9)])) \n",
    "# expected answer: [False, False, False, True, False, True]"
   ]
  },
  {
   "cell_type": "markdown",
   "metadata": {},
   "source": [
    "**b.** Once you have verified the position, return its empty neighbours in a `list`.\n",
    "\n",
    "Use both `filter` function and `verifiy_location` written above."
   ]
  },
  {
   "cell_type": "code",
   "execution_count": 258,
   "metadata": {},
   "outputs": [],
   "source": [
    "def get_neighbours(position):\n",
    "    x, y = position\n",
    "    result = list(filter(verify_location, [(x + 1, y + 1), (x + 1, y), (x + 1, y - 1), (x, y + 1), (x, y - 1), (x - 1, y + 1), (x - 1, y), (x - 1, y - 1)]))\n",
    "\n",
    "    return result"
   ]
  },
  {
   "cell_type": "code",
   "execution_count": 259,
   "metadata": {},
   "outputs": [
    {
     "data": {
      "text/plain": [
       "[[(1, 10), (1, 9), (1, 8), (0, 10), (0, 8)], [(5, 4), (4, 5), (4, 4)]]"
      ]
     },
     "execution_count": 259,
     "metadata": {},
     "output_type": "execute_result"
    }
   ],
   "source": [
    "[get_neighbours(p) for p in [(0,9), (5,5)]]\n",
    "# expected answer: [[(1, 10), (0, 10), (1, 9), (0, 8), (1, 8)], [(4, 4), (4, 5), (5, 4)]]"
   ]
  },
  {
   "cell_type": "markdown",
   "metadata": {},
   "source": [
    "### Heuristic search\n",
    "\n",
    "After checking the surroundings, we want to expand our frontier towards the goal, rather than searching for all possible directions."
   ]
  },
  {
   "cell_type": "markdown",
   "metadata": {},
   "source": [
    "### Task 1\n",
    "\n",
    "**a.** Compute the _Euclidean distance_:\n",
    "\n",
    "For two dimensions: \n",
    "\n",
    "\\begin{equation*}\n",
    "d(x, y) = \\sqrt{(x_{1} - y_{1})^{2} + (x_{2} - y_{2})^{2}}\n",
    "\\end{equation*}"
   ]
  },
  {
   "cell_type": "code",
   "execution_count": 260,
   "metadata": {},
   "outputs": [],
   "source": [
    "from math import sqrt"
   ]
  },
  {
   "cell_type": "code",
   "execution_count": 261,
   "metadata": {},
   "outputs": [],
   "source": [
    "def euclidean_distance(a, b):\n",
    "    x1, y1 = a\n",
    "    x2, y2 = b\n",
    "    distance = sqrt( pow((x1 - x2), 2) + pow((y1 - y2),2) )\n",
    "    return distance"
   ]
  },
  {
   "cell_type": "code",
   "execution_count": 262,
   "metadata": {},
   "outputs": [
    {
     "data": {
      "text/plain": [
       "4.47213595499958"
      ]
     },
     "execution_count": 262,
     "metadata": {},
     "output_type": "execute_result"
    }
   ],
   "source": [
    "euclidean_distance((2,3), (4, 7))\n",
    "# expected answer: 4.47213595499958"
   ]
  },
  {
   "cell_type": "markdown",
   "metadata": {},
   "source": [
    "**b.** Compute the _Manhattan distance_:\n",
    "\n",
    "For two dimensions: \n",
    "\n",
    "\\begin{equation*}\n",
    "d(x, y) = \\left | x_{1} - x_{2} \\right | +  \\left | y_{1} - y_{2} \\right |\n",
    "\\end{equation*}"
   ]
  },
  {
   "cell_type": "code",
   "execution_count": 263,
   "metadata": {},
   "outputs": [],
   "source": [
    "def manhattan_distance(a, b):\n",
    "    x1, x2 = a\n",
    "    y1, y2 = b\n",
    "\n",
    "    distance = abs(x1 - y1) + abs(x2 - y2)\n",
    "    return distance"
   ]
  },
  {
   "cell_type": "code",
   "execution_count": 264,
   "metadata": {},
   "outputs": [
    {
     "data": {
      "text/plain": [
       "5"
      ]
     },
     "execution_count": 264,
     "metadata": {},
     "output_type": "execute_result"
    }
   ],
   "source": [
    "manhattan_distance((2,3), (4,0))\n",
    "# expected answer: 5"
   ]
  },
  {
   "cell_type": "markdown",
   "metadata": {},
   "source": [
    "To decide which location should be first checked from the _frontier_, we need to verify if the new possible route is better than the best previous one.\n",
    "\n",
    "In practice, this could be accomplished using a **Priority Queue**. "
   ]
  },
  {
   "cell_type": "code",
   "execution_count": 265,
   "metadata": {},
   "outputs": [
    {
     "name": "stdout",
     "output_type": "stream",
     "text": [
      "((0, 1), 'cost_so_far: 1')\n",
      "((1, 2), 'cost_so_far: 2')\n",
      "((1, 4), 'cost_so_far: 3')\n"
     ]
    }
   ],
   "source": [
    "from heapq import heappop, heappush\n",
    "\n",
    "priority_queue = []\n",
    "heappush(priority_queue, ((1, 2), 'cost_so_far: 2'))\n",
    "heappush(priority_queue, ((0, 1), 'cost_so_far: 1'))\n",
    "heappush(priority_queue, ((1, 4), 'cost_so_far: 3'))\n",
    "\n",
    "print(heappop(priority_queue))\n",
    "print(heappop(priority_queue))\n",
    "print(heappop(priority_queue))"
   ]
  },
  {
   "cell_type": "markdown",
   "metadata": {},
   "source": [
    "The frontier uses a priority queue for expansion and has the following structure: \n",
    "\n",
    "`frontier[(discovered_nodes_as_tuple), (estimated_cost, node)]`\n",
    "\n",
    "Save the discovered nodes in a dictionary:\n",
    "\n",
    "`d[new_node] = (parent, cost_so_far)`\n",
    "\n",
    "* The movement between cells costs one unit and represents the `real cost g` which helps in measuring the actual distance.\n",
    "* The estimated distance to the goal is given by the `heuristic function` defined before."
   ]
  },
  {
   "cell_type": "markdown",
   "metadata": {},
   "source": [
    "### Task 2\n",
    "\n",
    "**a.** Implement **A\\*** algorithm which receives as arguments the start node, the final node and the heuristic function."
   ]
  },
  {
   "cell_type": "code",
   "execution_count": 266,
   "metadata": {},
   "outputs": [],
   "source": [
    "from heapq import heappop, heappush"
   ]
  },
  {
   "cell_type": "code",
   "execution_count": 267,
   "metadata": {},
   "outputs": [],
   "source": [
    "from heapq import heappop, heappush\n",
    "\n",
    "def astar(start, end, h):\n",
    "    frontier = []\n",
    "    heappush(frontier, (0 + h(start, end), start))  # (f = g + h, node)\n",
    "    # Discovered nodes as dictionary\n",
    "    discovered = {start: (None, 0)}  # node -> (parent, g)\n",
    "    \n",
    "    while frontier:\n",
    "        # Pop node with lowest f value\n",
    "        current_f, current_node = heappop(frontier)\n",
    "        \n",
    "        if current_node == end:\n",
    "            path = []\n",
    "            while current_node:\n",
    "                path.append(current_node)\n",
    "                current_node = discovered[current_node][0]  \n",
    "            return path[::-1], discovered \n",
    "      \n",
    "        current_g = discovered[current_node][1]\n",
    "        \n",
    "        for neighbor in get_neighbours(current_node):\n",
    "            new_g = current_g + 1  \n",
    "            if neighbor not in discovered or new_g < discovered[neighbor][1]:\n",
    "                discovered[neighbor] = (current_node, new_g)\n",
    "                heappush(frontier, (new_g + h(neighbor, end), neighbor))\n",
    "    \n",
    "    \n",
    "    # If the loop finishes without finding a path, return an empty list and discovered\n",
    "    return [], discovered"
   ]
  },
  {
   "cell_type": "markdown",
   "metadata": {},
   "source": [
    "**b.** Run the algorithm using different heuristics."
   ]
  },
  {
   "cell_type": "code",
   "execution_count": 268,
   "metadata": {},
   "outputs": [],
   "source": [
    "def display_map(discovered):\n",
    "    cost_map = [[discovered[(r, c)][1] if (r, c) in discovered else 0 for c in range(width)] for r in range(height)]\n",
    "    pyplot.imshow(cost_map, cmap='Greys', interpolation='nearest')\n",
    "    pyplot.show()"
   ]
  },
  {
   "cell_type": "code",
   "execution_count": 269,
   "metadata": {},
   "outputs": [
    {
     "name": "stdout",
     "output_type": "stream",
     "text": [
      "Path using Euclidean distance: [(5, 5), (5, 4), (5, 3), (5, 2), (6, 1), (7, 2), (8, 3), (8, 4), (8, 5), (8, 6), (8, 7), (8, 8)]\n"
     ]
    },
    {
     "data": {
      "image/png": "[encoded data removed]",
      "text/plain": [
       "<Figure size 640x480 with 1 Axes>"
      ]
     },
     "metadata": {},
     "output_type": "display_data"
    }
   ],
   "source": [
    "path, discovered = astar(start, final, euclidean_distance)\n",
    "print(\"Path using Euclidean distance:\", path)\n",
    "display_map(discovered)"
   ]
  },
  {
   "cell_type": "code",
   "execution_count": 270,
   "metadata": {},
   "outputs": [
    {
     "name": "stdout",
     "output_type": "stream",
     "text": [
      "Path using Manhattan distance: [(5, 5), (4, 5), (3, 5), (2, 5), (1, 6), (1, 7), (2, 8), (3, 8), (4, 8), (5, 8), (6, 8), (7, 8), (8, 8)]\n"
     ]
    },
    {
     "data": {
      "image/png": "[encoded data removed]",
      "text/plain": [
       "<Figure size 640x480 with 1 Axes>"
      ]
     },
     "metadata": {},
     "output_type": "display_data"
    }
   ],
   "source": [
    "path, discovered = astar(start, final, manhattan_distance)\n",
    "print(\"Path using Manhattan distance:\", path)\n",
    "display_map(discovered)"
   ]
  },
  {
   "cell_type": "markdown",
   "metadata": {},
   "source": [
    "### Task 3\n",
    "\n",
    "* Which heuristic function can be used in our problem, when we can move diagonally on the map?\n",
    "* Which is the best one to use?\n",
    "* What if we could only move in the 4 cardinal directions?"
   ]
  },
  {
   "cell_type": "code",
   "execution_count": 271,
   "metadata": {
    "vscode": {
     "languageId": "markdown"
    }
   },
   "outputs": [
    {
     "ename": "SyntaxError",
     "evalue": "invalid syntax (573027113.py, line 1)",
     "output_type": "error",
     "traceback": [
      "\u001b[0;36m  Cell \u001b[0;32mIn[271], line 1\u001b[0;36m\u001b[0m\n\u001b[0;31m    - In our problem, we can use both the Eucledian Distance and the Manhattan distance if we are not restricted to only orthogonal movements\u001b[0m\n\u001b[0m         ^\u001b[0m\n\u001b[0;31mSyntaxError\u001b[0m\u001b[0;31m:\u001b[0m invalid syntax\n"
     ]
    }
   ],
   "source": [
    "- In our problem, we can use both the Eucledian Distance and the Manhattan distance if we are not restricted to only orthogonal movements\n",
    "- If we have diagonal movements, the Eucledian distance is a better heuristic function\n",
    "- If we move only orthogonally, we Manhattan is a better heuristic function"
   ]
  }
 ],
 "metadata": {
  "kernelspec": {
   "display_name": "base",
   "language": "python",
   "name": "python3"
  },
  "language_info": {
   "codemirror_mode": {
    "name": "ipython",
    "version": 3
   },
   "file_extension": ".py",
   "mimetype": "text/x-python",
   "name": "python",
   "nbconvert_exporter": "python",
   "pygments_lexer": "ipython3",
   "version": "3.12.4"
  }
 },
 "nbformat": 4,
 "nbformat_minor": 4
}
