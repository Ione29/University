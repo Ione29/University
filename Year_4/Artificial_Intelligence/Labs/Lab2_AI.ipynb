{
 "cells": [
  {
   "cell_type": "markdown",
   "metadata": {
    "id": "gVtTU731ugud"
   },
   "source": [
    "# Artificial Intelligence - Fall 2024 - Laboratory 02:Python Introduction part II\n"
   ]
  },
  {
   "cell_type": "markdown",
   "metadata": {},
   "source": [
    "##### Review"
   ]
  },
  {
   "cell_type": "markdown",
   "metadata": {},
   "source": [
    "The following formula computes a _Z score_ and measures how far a single raw data value is from the population mean.\n",
    "\n",
    "\\begin{equation*}\n",
    "z = \\frac{X - \\mu }{\\sigma }\n",
    "\\end{equation*}\n",
    "\n",
    "where:\n",
    "* **_X_** is a single raw data value\n",
    "* `mu` is the population mean\n",
    "* `sigma` is the population standard deviation\n",
    "\n",
    "To find the standard deviation, the equation below comes in hand:\n",
    "\n",
    "\\begin{equation*}\n",
    "\\sigma = \\sqrt{\\frac{\\sum \\left | X - \\mu \\right |^{2}}{N}}\n",
    "\\end{equation*}\n",
    "\n",
    "where **_N_** is the number of data points in the population."
   ]
  },
  {
   "cell_type": "markdown",
   "metadata": {},
   "source": [
    "**a.** Using `sum()` and `list comprehension`, compute the mean and the standard deviation for the population defined below:"
   ]
  },
  {
   "cell_type": "code",
   "execution_count": 1106,
   "metadata": {},
   "outputs": [
    {
     "name": "stdout",
     "output_type": "stream",
     "text": [
      "[4.5, 5, 5.5, 6, 6.25, 7, 15.25, 18, 18.45, 21, 21.45, 23]\n"
     ]
    }
   ],
   "source": [
    "data =  [4.5, 5, 5.5, 6, 6.25, 7, 15.25, 18, 18.45, 21, 21.45, 23]\n",
    "print(data)"
   ]
  },
  {
   "cell_type": "code",
   "execution_count": 1107,
   "metadata": {},
   "outputs": [
    {
     "name": "stdout",
     "output_type": "stream",
     "text": [
      "Mean:  12.616666666666667\n",
      "Standard Deviation:  7.167441818544622\n"
     ]
    }
   ],
   "source": [
    "# Your implementation here:\n",
    "mean = sum(data) / len(data)\n",
    "std = (sum([(X-mean)**2 for X in data]) / len(data) )**0.5\n",
    "\n",
    "print(\"Mean: \", mean)\n",
    "print(\"Standard Deviation: \", std)"
   ]
  },
  {
   "cell_type": "markdown",
   "metadata": {},
   "source": [
    "**b.** Define the `z_score()` function and implement the mathematical expression. The obtained values should be stored in a _z score_ values list and rounded to 3 decimals."
   ]
  },
  {
   "cell_type": "code",
   "execution_count": 1108,
   "metadata": {},
   "outputs": [
    {
     "name": "stdout",
     "output_type": "stream",
     "text": [
      "-1.0626757578917134\n"
     ]
    }
   ],
   "source": [
    "# Your implementatio here:\n",
    "def z_score(data, point):\n",
    "    mean = sum(data) / len(data)\n",
    "    std = (sum([(X-mean)**2 for X in data]) / len(data) )**0.5\n",
    "    \n",
    "    score = (point - mean) / std\n",
    "\n",
    "    return score\n",
    "\n",
    "result = z_score(data = data, point = 5)\n",
    "print(result)"
   ]
  },
  {
   "cell_type": "markdown",
   "metadata": {},
   "source": [
    "**c.** Add the corresponding elongation of each raw data value into a dictionary."
   ]
  },
  {
   "cell_type": "code",
   "execution_count": 1109,
   "metadata": {},
   "outputs": [
    {
     "name": "stdout",
     "output_type": "stream",
     "text": [
      "[-1.1324356544710383, -1.0626757578917134, -0.9929158613123887, -0.923155964733064, -0.8882760164434017, -0.7836361715744146, 0.36740212198444355, 0.7510815531707296, 0.8138654600921217, 1.169640932646678, 1.2324248395680701, 1.4486805189639769]\n"
     ]
    }
   ],
   "source": [
    "# Your implementatio here:\n",
    "def z_score_list(data):\n",
    "    \n",
    "    scores = list()\n",
    "\n",
    "    for i in range(0, len(data)):\n",
    "        scores.append(z_score(data, data[i]))\n",
    "    return scores\n",
    "\n",
    "print(z_score_list(data))\n",
    "    "
   ]
  },
  {
   "cell_type": "markdown",
   "metadata": {
    "id": "18ICxssnuguh"
   },
   "source": [
    "## Classes\n",
    "\n",
    "The object-oriented programming paradigm in Python helps with structuring programs into `individual objects`. But how?\n",
    "\n",
    "* An Object **O** from a class **C** has a set of properties **_p_** and actions **_a_**.\n",
    "\n",
    "* The functions of a class are called `methods`. Their responsibility is to model the data corresponding to a given object.\n",
    "\n",
    "* The objects of a class are known as `instances` and represent the source of collecting data.\n",
    "\n",
    "```python\n",
    "\n",
    "class EmptyClas:\n",
    "    \"\"\"\n",
    "    This is a class without variables and methods\n",
    "    \"\"\"\n",
    "    pass # The keyword pass is a placeholder\n",
    "\n",
    "\n",
    "class MyClass:\n",
    "    # A class variable\n",
    "    name = 'My Class'\n",
    "    \n",
    "    def my_method(self, my_var):\n",
    "        # An instance variable\n",
    "        self.my_instance = my_var\n",
    "```"
   ]
  },
  {
   "cell_type": "code",
   "execution_count": 1110,
   "metadata": {
    "id": "XhgoWxJGuguk"
   },
   "outputs": [],
   "source": [
    "# Implement Task 0 b and c here:\n",
    "\n",
    "class ScientificConference:\n",
    "    \"\"\"\n",
    "    To define the properties of a class, \n",
    "    we use a special method called __init__.\n",
    "    \n",
    "    The special variable called \"self\"\n",
    "    helps with associating the attributes\n",
    "    with the new object: similar to `this`\n",
    "    keyword from other programming languages\n",
    "    and required to address variables from\n",
    "    classes. \n",
    "    \"\"\"\n",
    "    def __init__(self, name, year, papers=None):\n",
    "        \"\"\"\n",
    "        Establish the attributes of the\n",
    "        class and assign values to the \n",
    "        corresponding parameters.\n",
    "        \"\"\" \n",
    "        self.name = name\n",
    "        self.year = year\n",
    "        \"\"\"\n",
    "        b. Add new attribute `papers`\n",
    "        \"\"\"\n",
    "        if papers is None:\n",
    "            self.papers = dict()\n",
    "        else:\n",
    "            self.papers = papers\n",
    "    \n",
    "    def add_manuscript(self, title, researcher):\n",
    "        if researcher not in self.papers:\n",
    "            self.papers[researcher] = []\n",
    "        if title not in self.papers[researcher]:\n",
    "            self.papers[researcher].append(title)\n",
    "\n",
    "    def __str__(self):\n",
    "        \"\"\"\n",
    "        To return the String representation of\n",
    "        an object, we use the __str__ method. \n",
    "        \"\"\"\n",
    "        result = self.name + ' ' + str(self.year) + ': \\n'\n",
    "        for author, papers in self.papers.items():\n",
    "            result += f'{author}: {\", \".join(papers)} \\n'\n",
    "        return result"
   ]
  },
  {
   "cell_type": "markdown",
   "metadata": {
    "id": "6xdy3BZ7ugu1"
   },
   "source": [
    "### Task 0\n",
    "\n",
    "**a.** Define two new `instances` of the `class ScientificConference` and return their representations.\n",
    "\n",
    "Your output should look like:\n",
    "\n",
    "`Proposals for ICML and NeurIPS conferences will be accepted until the end of November 2021.`\n",
    "\n",
    "_Hint:_ `instance.attribute` helps you extracting a certain property."
   ]
  },
  {
   "cell_type": "code",
   "execution_count": 1111,
   "metadata": {
    "id": "ezLUEAgkugu5"
   },
   "outputs": [
    {
     "name": "stdout",
     "output_type": "stream",
     "text": [
      "Proposals for AI Tools and Healthcare News conferences will be accepted until the end of November 2021\n"
     ]
    }
   ],
   "source": [
    "# Your implementation here\n",
    "conference1 = ScientificConference(\"AI Tools\", 2025)\n",
    "conference2 = ScientificConference(\"Healthcare News\", 2012)\n",
    "\n",
    "print(\"Proposals for {} and {} conferences will be accepted until the end of November 2021\".format(conference1.name, conference2.name))\n"
   ]
  },
  {
   "cell_type": "markdown",
   "metadata": {
    "id": "7ZvLz1GZugvC"
   },
   "source": [
    "**b.** Create a new attribute for the `class ScientificConference`, which is a dictionary passed as a parameter to the instances of the class and holds all of the papers of the conference.\n",
    "\n",
    "_Note:_ You should check if `papers` is `None` in `__init__` and set it to `{}` instead.\n",
    "\n",
    "_Please handle duplicate entries by removing them!_"
   ]
  },
  {
   "cell_type": "markdown",
   "metadata": {
    "id": "Tw7tlZtTugvF"
   },
   "source": [
    "**c.** Define the `add_manuscript` method which generates new entries in the dictionary described before. Please consider using the _researcher_ as a `key` and the _title_ as `values`."
   ]
  },
  {
   "cell_type": "code",
   "execution_count": 1112,
   "metadata": {},
   "outputs": [
    {
     "name": "stdout",
     "output_type": "stream",
     "text": [
      "AI Tools 2025: \n",
      "\n",
      "----------------------\n",
      "\n",
      "AI Tools 2025: \n",
      "Satoshi: Image Generation AI, Digital Currencies \n",
      "Google: Data Collection \n",
      "\n"
     ]
    }
   ],
   "source": [
    "# Verify here if your add_manuscript method works: add an item & print it\n",
    "print(conference1)\n",
    "print(\"----------------------\\n\")\n",
    "conference1.add_manuscript(title = \"Image Generation AI\", researcher=\"Satoshi\")\n",
    "conference1.add_manuscript(title = \"Digital Currencies\", researcher=\"Satoshi\")\n",
    "conference1.add_manuscript(title = \"Data Collection\", researcher=\"Google\")\n",
    "\n",
    "print(conference1)"
   ]
  },
  {
   "cell_type": "markdown",
   "metadata": {
    "id": "HUKrHifWugvP"
   },
   "source": [
    "### Task 1\n",
    "\n",
    "**a.** Define the class `Person` which stores the `title`, `name` and `surname` of a person.\n",
    "\n",
    "The _tuple_ `allowed_titles` is a class variable which helps to verify if the title of a person is \"Mr\", \"Mrs\", \"Ms\", \"Senior Researcher\", \"Professor of CS\" or \"Computer Scientist\".\n",
    "\n",
    "An error is returned if the title is not valid.\n",
    "\n",
    "Use `__str__` defined below:\n",
    "\n",
    "```python\n",
    "    def __str__(self):\n",
    "        return self.title + ' ' + self.surname + ' ' + self.name\n",
    "```"
   ]
  },
  {
   "cell_type": "code",
   "execution_count": 1113,
   "metadata": {
    "id": "CLYRkzHSugvR"
   },
   "outputs": [],
   "source": [
    "class Person:\n",
    "    def __init__(self, name, surname, title):\n",
    "        self.title = title\n",
    "        self.name = name\n",
    "        self.surname = surname\n",
    "        self.allowed_titles = (\"Mr\", \"Mrs\", \"Ms\", \"Senior Researcher\", \"Professor of CS\", \"Computer Scientist\")\n",
    "\n",
    "        if self.title not in self.allowed_titles:\n",
    "            raise ValueError(\"The title isn't right\")\n",
    "\n",
    "    def __str__(self):\n",
    "        return self.title + ' ' + self.surname + ' ' + self.name\n"
   ]
  },
  {
   "cell_type": "markdown",
   "metadata": {
    "id": "ZcjB03J3ugva"
   },
   "source": [
    "**b.** Create two instances of the class Person and verify if the following entries are valid:\n",
    "\n",
    "* _Mr Ian Goodfellow_,\n",
    "* _SeniorResearcher Tomas Mikolov._"
   ]
  },
  {
   "cell_type": "code",
   "execution_count": 1114,
   "metadata": {
    "id": "U8jKwHK8ugvc"
   },
   "outputs": [
    {
     "name": "stdout",
     "output_type": "stream",
     "text": [
      "Mr Goodfellow Ian\n"
     ]
    }
   ],
   "source": [
    "# Your implementation here\n",
    "person = Person(title = \"Mr\", name = \"Ian\", surname=\"Goodfellow\")\n",
    "print(person)\n",
    "\n",
    "#person2= Person(title = \"SeniorResearcher\", name = \"Tomas\", surname = \"Mikolov\")"
   ]
  },
  {
   "cell_type": "markdown",
   "metadata": {
    "id": "sJGqy2Zxugvm"
   },
   "source": [
    "### Task 2\n",
    "\n",
    "In `ScientificConference` we have been using the paper parameter as a string, but this concept requires a detailed structure.\n",
    "\n",
    "Introduce a new class, `Paper`, which has the following attributes:\n",
    "\n",
    "* `authors`, \n",
    "* `title`, \n",
    "* `a_id`,\n",
    "* `year`, \n",
    "* `status` (published or in development), \n",
    "* `peer_rating` (Excellent, Good, Fair, Poor, Barely Acceptable, Unacceptable)."
   ]
  },
  {
   "cell_type": "code",
   "execution_count": 1115,
   "metadata": {
    "id": "1hPZ7q3rugvn"
   },
   "outputs": [],
   "source": [
    "class Paper:\n",
    "    def __init__(self, authors, title, a_id, status, year, peer_rating):\n",
    "        self.authors = authors\n",
    "        self.title = title\n",
    "        self.a_id = a_id\n",
    "        self.status = status\n",
    "        self.year = year\n",
    "        self.peer_rating = peer_rating\n",
    "\n",
    "        valid_status = [\"Published\", \"In Development\"]\n",
    "        valid_rating = [\"Excellent\", \"Good\", \"Fair\", \"Poor\", \"Barely Acceptable\", \"Unacceptable\"]\n",
    "\n",
    "        if self.status not in valid_status:\n",
    "            raise ValueError(\"The status is not valid!\")\n",
    "        \n",
    "        if self.peer_rating not in valid_rating:\n",
    "            raise ValueError(\"The peer rating is not valid\")\n",
    "\n",
    "    def __str__(self):\n",
    "        return  f'{self.title}, {\", \".join([str(author) for author in self.authors])} et al. ({self.year}), a_id: '\\\n",
    "                f'{self.a_id}, status: {self.status}, rating: {self.peer_rating}'"
   ]
  },
  {
   "cell_type": "markdown",
   "metadata": {
    "id": "j82CL54Augvv"
   },
   "source": [
    "## Inheritence\n",
    "\n",
    "In Object-Oriented programming, this concept enables us to transfer the methods and the properties of a class to another class."
   ]
  },
  {
   "cell_type": "markdown",
   "metadata": {
    "id": "rZqutiFsugvw"
   },
   "source": [
    "### Task 3\n",
    "\n",
    "Create a class named `Researcher`, which inherits the properties and methods from the `Person` class. Besides, this class has an additional parameter, `papers` which is `None` by default.\n",
    "\n",
    "_Note:_ You should check if `papers` is `None` in `__init__` and set it to `[]` instead.\n",
    "\n",
    "```python\n",
    "class Researcher(Person):\n",
    "    def __init__('Add arguments'):\n",
    "        super().__init__(title, name, surname)\n",
    "```"
   ]
  },
  {
   "cell_type": "code",
   "execution_count": 1116,
   "metadata": {
    "id": "QCfpoVveugvy"
   },
   "outputs": [],
   "source": [
    "# Define your first researcher\n",
    "# Expected output: Senior Researcher Tomas Mikolov\n",
    "\n",
    "class Researcher(Person):\n",
    "    def __init__(self, name, surname, title = \"Mr\", papers = []):\n",
    "        super().__init__(name, surname, title)\n",
    "        self.papers = papers if papers is not None else []\n",
    "        self.co_authored = False\n",
    "\n",
    "    def verify_co_authorship(self):\n",
    "        for paper in self.papers:\n",
    "            if self in paper.authors:\n",
    "                self.co_authored = True\n",
    "\n",
    "        return self.co_authored\n",
    "    \n",
    "    def add_paper(self, paper):\n",
    "        self.papers.append(paper)\n",
    "\n",
    "    def get_papers(self):\n",
    "        return self.papers\n",
    "\n",
    "    def get_collab(self, collab_researcher):\n",
    "        results = []\n",
    "        \n",
    "        for paper in self.papers:\n",
    "            if collab_researcher in paper.authors:\n",
    "                results.append(paper)\n",
    "\n",
    "        return results                \n"
   ]
  },
  {
   "cell_type": "markdown",
   "metadata": {
    "id": "40nAxy14ugv8"
   },
   "source": [
    "### Task 4\n",
    "\n",
    "Consider the following scientists:\n",
    "\n",
    "1.  Paper _Deep Learning_ published by Yann LeCun, Yoshua Bengio, Geoffrey Hinton, in _nature 521_, id = https://doi.org/10.1038/nature14539, peer_rating = Excelent.\n",
    "\n",
    "2. Paper _On the difficulty of training recurrent neural networks_ by Razvan Pascanu, Tomas Mikolov, Professor of computer science Yoshua Bengio, in ICML 2013, id = https://arxiv.org/abs/1211.5063, peer_rating = Excelent.\n",
    "\n",
    "2. Paper _Generative Adversarial Nets_ by Ian Goodfellow and Yoshua Bengio, NeurIPS 2015, id = http://papers.nips.cc/paper/5423-generative-adversarial-nets.pdf, peer_rating = Excelent.\n",
    "\n",
    "3. Paper _Handwritten Digit Recognition with a Back-Propagation Network_ by Computer Scientist Yann LeCun, NeurIPS 1989, id =  https://papers.nips.cc/paper/293-handwritten-digit-recognition-with-a-back-propagation-network, peer_rating = Excelent.\n",
    "\n",
    "4. Paper _Gated Softmax Classification_ by Geoffrey Hintorn, NeurIPS 2010, id = http://papers.neurips.cc/paper/3895-gated-softmax-classification, peer_rating = Good.\n",
    "\n",
    "_Note:_ Let us consider \"Mr\" as a default title for the researchers without a specific caption. Also, for the id of a paper, please use only integers from the provided links.\n",
    "\n",
    "**a.** Define the next 5 scientists and use them in your `paper` objects.\n",
    "\n",
    "**b.** Create the `verify_co_authorship` function inside the `class Researcher` which checks if a certain researcher ever co-authored a paper.\n",
    "_Hint:_ Use `self.co_authored = False` inside the `__init__` function.\n",
    "\n",
    "**c.** Implement the `get_collab` function inside the `class Researcher` to discover the papers written by two researchers.\n",
    "\n",
    "For instance, if Yoshua Bengio is researcher2 and Ian Goodfellow is researcher3, then:\n",
    "\n",
    "`print_papers(researcher2.get_collab(researcher3))` should output:\n",
    "\n",
    "_Generative Adversarial Nets, Mr Ian Goodfellow et al. (2015), a_id: 5423, status: published, rating: Excelent_\n",
    "\n",
    "_Note:_ This function helps you to print the papers from a given list.\n",
    "\n",
    "```python\n",
    "def print_papers(paper_list):\n",
    "    for paper in paper_list:\n",
    "        print(paper)\n",
    "```\n",
    "\n",
    "**d.** What are the papers written by Yoshua Bengio?\n",
    "\n",
    "Expected output:\n",
    "\n",
    "`Deep Learning, Computer Scientist Yann LeCun et al. (2015), a_id: 14539, status: published, rating: Excelent`\n",
    "\n",
    "`Generative Adversarial Nets, Mr Ian Goodfellow et al. (2015), a_id: 5423, status: published, rating: Excelent`\n",
    "\n",
    "`Paper On the difficulty of training recurrent neural networks, Mr Razvan Pascanu et al. (2013), a_id: 5063, status: published, rating: Excelent`\n",
    "\n",
    "**e.** Did he ever co-author a paper?\n",
    "\n",
    "**f.** Which papers are published by Yann LeCun?\n",
    "\n",
    "Expected output:\n",
    "\n",
    "`Deep Learning, Computer Scientist Yann LeCun et al. (2015), a_id: 14539, status: published, rating: Excelent`\n",
    "\n",
    "`Handwritten Digit Recognition with a Back-Propagation Network, Computer Scientist Yann LeCun et al. (1989), a_id: 293, status: published, rating: Good`"
   ]
  },
  {
   "cell_type": "code",
   "execution_count": 1117,
   "metadata": {},
   "outputs": [
    {
     "name": "stdout",
     "output_type": "stream",
     "text": [
      "Computer Scientist LeCun Yann\n",
      "\n",
      "a)-------------\n",
      "\n",
      "Deep Learning, Computer Scientist LeCun Yann, Professor of CS Bengio Yoshua, Mr Hinton Geoffrey et al. (2015), a_id: 14539, status: Published, rating: Excellent\n",
      "On the difficulty of training recurrent neural networks, Mr Pascanu Razvan, Mr Mikolov Tomas et al. (2013), a_id: 5063, status: Published, rating: Excellent\n",
      "Generative Adversarial Nets, Mr Goodfellow Ian, Professor of CS Bengio Yoshua et al. (2015), a_id: 5423, status: Published, rating: Excellent\n",
      "\n",
      "--------------\n",
      "\n",
      "Deep Learning, Computer Scientist LeCun Yann, Professor of CS Bengio Yoshua, Mr Hinton Geoffrey et al. (2015), a_id: 14539, status: Published, rating: Excellent\n",
      "Handwritten Digit Recognition with a Back-Propagation Network, Computer Scientist LeCun Yann et al. (1989), a_id: 293, status: Published, rating: Excellent\n",
      "Deep Learning, Computer Scientist LeCun Yann, Professor of CS Bengio Yoshua, Mr Hinton Geoffrey et al. (2015), a_id: 14539, status: Published, rating: Excellent\n",
      "Deep Learning, Computer Scientist LeCun Yann, Professor of CS Bengio Yoshua, Mr Hinton Geoffrey et al. (2015), a_id: 14539, status: Published, rating: Excellent\n",
      "\n",
      "--------------\n",
      "\n",
      "Deep Learning, Computer Scientist LeCun Yann, Professor of CS Bengio Yoshua, Mr Hinton Geoffrey et al. (2015), a_id: 14539, status: Published, rating: Excellent\n",
      "Handwritten Digit Recognition with a Back-Propagation Network, Computer Scientist LeCun Yann et al. (1989), a_id: 293, status: Published, rating: Excellent\n",
      "Deep Learning, Computer Scientist LeCun Yann, Professor of CS Bengio Yoshua, Mr Hinton Geoffrey et al. (2015), a_id: 14539, status: Published, rating: Excellent\n",
      "Generative Adversarial Nets, Mr Goodfellow Ian, Professor of CS Bengio Yoshua et al. (2015), a_id: 5423, status: Published, rating: Excellent\n",
      "Deep Learning, Computer Scientist LeCun Yann, Professor of CS Bengio Yoshua, Mr Hinton Geoffrey et al. (2015), a_id: 14539, status: Published, rating: Excellent\n",
      "Gated Softmax Classification, Mr Hinton Geoffrey et al. (2010), a_id: 3895, status: Published, rating: Good\n",
      "On the difficulty of training recurrent neural networks, Mr Pascanu Razvan, Mr Mikolov Tomas et al. (2013), a_id: 5063, status: Published, rating: Excellent\n",
      "On the difficulty of training recurrent neural networks, Mr Pascanu Razvan, Mr Mikolov Tomas et al. (2013), a_id: 5063, status: Published, rating: Excellent\n",
      "Generative Adversarial Nets, Mr Goodfellow Ian, Professor of CS Bengio Yoshua et al. (2015), a_id: 5423, status: Published, rating: Excellent\n",
      "\n",
      "--------------\n",
      "\n",
      "True\n",
      "\n",
      "--------------\n",
      "\n",
      "Deep Learning, Computer Scientist LeCun Yann, Professor of CS Bengio Yoshua, Mr Hinton Geoffrey et al. (2015), a_id: 14539, status: Published, rating: Excellent\n",
      "Handwritten Digit Recognition with a Back-Propagation Network, Computer Scientist LeCun Yann et al. (1989), a_id: 293, status: Published, rating: Excellent\n",
      "Deep Learning, Computer Scientist LeCun Yann, Professor of CS Bengio Yoshua, Mr Hinton Geoffrey et al. (2015), a_id: 14539, status: Published, rating: Excellent\n",
      "Generative Adversarial Nets, Mr Goodfellow Ian, Professor of CS Bengio Yoshua et al. (2015), a_id: 5423, status: Published, rating: Excellent\n",
      "Deep Learning, Computer Scientist LeCun Yann, Professor of CS Bengio Yoshua, Mr Hinton Geoffrey et al. (2015), a_id: 14539, status: Published, rating: Excellent\n",
      "Gated Softmax Classification, Mr Hinton Geoffrey et al. (2010), a_id: 3895, status: Published, rating: Good\n",
      "On the difficulty of training recurrent neural networks, Mr Pascanu Razvan, Mr Mikolov Tomas et al. (2013), a_id: 5063, status: Published, rating: Excellent\n",
      "On the difficulty of training recurrent neural networks, Mr Pascanu Razvan, Mr Mikolov Tomas et al. (2013), a_id: 5063, status: Published, rating: Excellent\n",
      "Generative Adversarial Nets, Mr Goodfellow Ian, Professor of CS Bengio Yoshua et al. (2015), a_id: 5423, status: Published, rating: Excellent\n"
     ]
    }
   ],
   "source": [
    "# a)\n",
    "researcher1 = Researcher(name = \"Yann\", surname = \"LeCun\", title = \"Computer Scientist\")\n",
    "researcher2 = Researcher(name = \"Yoshua\", surname = \"Bengio\", title = \"Professor of CS\")\n",
    "researcher3 = Researcher(name = \"Geoffrey\", surname = \"Hinton\")\n",
    "researcher4 = Researcher(name = \"Razvan\", surname = \"Pascanu\")\n",
    "researcher5 = Researcher(name = \"Tomas\", surname = \"Mikolov\")\n",
    "researcher6 = Researcher(name = \"Ian\", surname = \"Goodfellow\")\n",
    "\n",
    "paper1 = Paper(authors = [researcher1, researcher2, researcher3], title=\"Deep Learning\", a_id=14539, status=\"Published\", peer_rating=\"Excellent\", year=2015)\n",
    "paper2 = Paper(authors = [researcher4, researcher5], title = \"On the difficulty of training recurrent neural networks\", a_id = 5063, status = \"Published\", peer_rating=\"Excellent\", year=2013)\n",
    "paper3 = Paper(authors = [researcher6, researcher2], title = \"Generative Adversarial Nets\", a_id = 5423, status = \"Published\", peer_rating=\"Excellent\", year = 2015)\n",
    "paper4 = Paper(authors = [researcher1], title = \"Handwritten Digit Recognition with a Back-Propagation Network\", a_id =  293, status = \"Published\", peer_rating=\"Excellent\", year = 1989)\n",
    "paper5 = Paper(authors = [researcher3], title = \"Gated Softmax Classification\", a_id = 3895, status = \"Published\", peer_rating=\"Good\", year = 2010)\n",
    "\n",
    "researcher1.add_paper(paper1)\n",
    "researcher1.add_paper(paper4)\n",
    "researcher2.add_paper(paper1)\n",
    "researcher2.add_paper(paper3)\n",
    "researcher3.add_paper(paper1)\n",
    "researcher3.add_paper(paper5)\n",
    "researcher4.add_paper(paper2)\n",
    "researcher5.add_paper(paper2)\n",
    "researcher6.add_paper(paper3)\n",
    "\n",
    "\n",
    "def print_papers(papers_list):\n",
    "    for paper in papers_list:\n",
    "        print(paper)\n",
    "\n",
    "print(researcher1)\n",
    "print('\\na)-------------\\n')\n",
    "print_papers([paper1, paper2, paper3])\n",
    "print('\\n--------------\\n')\n",
    "print_papers(researcher2.get_collab(researcher1))\n",
    "print('\\n--------------\\n')\n",
    "print_papers(researcher2.papers)\n",
    "print('\\n--------------\\n')\n",
    "print(researcher2.verify_co_authorship())\n",
    "print('\\n--------------\\n')\n",
    "print_papers(researcher1.get_papers())"
   ]
  },
  {
   "cell_type": "markdown",
   "metadata": {
    "id": "AImKzUZgugv9"
   },
   "source": [
    "### Task 5 \n",
    "\n",
    "Consider an updated version of the `ScientificConference` class, which should have a modified version of the function `add_manuscript`.\n",
    "\n",
    "Use the `status` and the `peer_rating` variables as a **threshold** to add papers in your `papers` dictionary. The conferences will only be accepting `Excelent` papers. For this case, the dictionary has the year of the paper as `key`, and the `values` are stored as a tuple of `(researcher, manuscript)`. For the papers which don't satisfy this condition, the message _\"Please review your submission.\"_ is displayed.\n",
    "\n",
    "For papers submitted in 2015, when printing the conference, the `str` function should output:\n",
    "\n",
    "```\n",
    "NeurIPS 2020: \n",
    "2015: \n",
    "Mr Ian Goodfellow: Generative Adversarial Nets, Mr Ian Goodfellow et al. (2015), id: 5423, status: published, rating: Excelent \n",
    "Computer Scientist Yann LeCun: Deep Learning, Computer Scientist Yann LeCun et al. (2015), id: 14539, status: published, rating: Excelent\n",
    "```"
   ]
  },
  {
   "cell_type": "code",
   "execution_count": 1118,
   "metadata": {
    "id": "EDsHycjEugv_"
   },
   "outputs": [
    {
     "name": "stderr",
     "output_type": "stream",
     "text": [
      "<>:2: SyntaxWarning: invalid escape sequence '\\ '\n",
      "<>:2: SyntaxWarning: invalid escape sequence '\\ '\n",
      "/tmp/ipykernel_53046/4178639201.py:2: SyntaxWarning: invalid escape sequence '\\ '\n",
      "  \"\"\"\n"
     ]
    }
   ],
   "source": [
    "class ScientificConferenceUpdate:\n",
    "    \"\"\"\n",
    "    To define the properties of a class, \n",
    "    we use a special method called __init__.\n",
    "    \n",
    "    The special variable called \"self\"\n",
    "    helps with associating the attributes\n",
    "    w\\ the new object: similar to `this`\n",
    "    keyword from other programming languages\n",
    "    and required to address variables from\n",
    "    classes. \n",
    "    \"\"\"\n",
    "    def __init__(self, name):\n",
    "        \"\"\"\n",
    "        Establish the attributes of the\n",
    "        class and assign values to the \n",
    "        corresponding parameters.\n",
    "        \"\"\" \n",
    "        self.name = name\n",
    "        self.year = year\n",
    "        \"\"\"\n",
    "        Add new attribute `papers`\n",
    "        \"\"\"\n",
    "    \n",
    "    def add_manuscript(self, manuscript, researcher):\n",
    "        'TO DO'\n",
    "        \n",
    "    def __str__(self):\n",
    "        \"\"\"\n",
    "        To return the String representation of\n",
    "        an object, we use the __str__ method. \n",
    "        \"\"\"\n",
    "        result = self.name + ' ' + str(self.year) + ': \\n'\n",
    "        for year, papers in self.papers.items():\n",
    "            result += f'{year}: \\n'\n",
    "            for (author, paper) in papers: \n",
    "                result += f'{author}: {paper} \\n'\n",
    "        return result"
   ]
  }
 ],
 "metadata": {
  "colab": {
   "collapsed_sections": [],
   "name": "Lab03_AI.ipynb",
   "provenance": []
  },
  "kernelspec": {
   "display_name": "base",
   "language": "python",
   "name": "python3"
  },
  "language_info": {
   "codemirror_mode": {
    "name": "ipython",
    "version": 3
   },
   "file_extension": ".py",
   "mimetype": "text/x-python",
   "name": "python",
   "nbconvert_exporter": "python",
   "pygments_lexer": "ipython3",
   "version": "3.12.4"
  }
 },
 "nbformat": 4,
 "nbformat_minor": 1
}
