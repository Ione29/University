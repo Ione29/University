{
 "cells": [
  {
   "cell_type": "markdown",
   "metadata": {
    "id": "0Y435U2gHFou"
   },
   "source": [
    "# Artificial Intelligence - Laboratory 05\n",
    "\n",
    "## _Searching algorithms for optimal decision-making in game theory and AI_\n"
   ]
  },
  {
   "cell_type": "markdown",
   "metadata": {
    "id": "LSIproEOHFox"
   },
   "source": [
    "## Introduction\n",
    "\n",
    "In gaming theory, the _decision-making process_ relies on the searching algorithm guiding the investigation of the search-space.\n",
    "\n",
    "Today's challenge sets the **MinMax Algorithm** as the main character of a  two-player game.\n",
    "\n",
    "Using tic-tac-toe as an example, the algorithm should compute the next best move by evaluating the utility of the board."
   ]
  },
  {
   "cell_type": "markdown",
   "metadata": {
    "id": "ORg7E4NcHFpI"
   },
   "source": [
    "For this problem the utility value can be:\n",
    "\n",
    "* _-1_ if player that seeks minimum wins;\n",
    "* _0_ if it's a tie;\n",
    "* _1_ if player that seeks maximum wins.\n",
    "\n"
   ]
  },
  {
   "cell_type": "code",
   "execution_count": 1,
   "metadata": {},
   "outputs": [],
   "source": [
    "board = [\" \" for _ in range(9)]"
   ]
  },
  {
   "cell_type": "code",
   "execution_count": 2,
   "metadata": {},
   "outputs": [
    {
     "name": "stdout",
     "output_type": "stream",
     "text": [
      "  |   |  \n",
      "---------\n",
      "  |   |  \n",
      "---------\n",
      "  |   |  \n"
     ]
    }
   ],
   "source": [
    "def display_board(board):\n",
    "    for i in range(0, 9, 3):\n",
    "        print(\" | \".join(board[i:i+3]))\n",
    "        if i < 6:\n",
    "            print(\"-\" * 9)\n",
    "display_board(board)"
   ]
  },
  {
   "cell_type": "code",
   "execution_count": 3,
   "metadata": {},
   "outputs": [],
   "source": [
    "# the method should return True or False based on who won the game\n",
    "def check_win(board, player):\n",
    "    for i in range(0, 9, 3):\n",
    "        if board[i] == board[i+1] == board[i+2] == player:\n",
    "            return True\n",
    "    \n",
    "    for i in range(3):\n",
    "        if board[i] == board[i+3] == board[i+6] == player:\n",
    "            return True\n",
    "    \n",
    "    if board[2] == board[4] == board[6] == player:\n",
    "        return True\n",
    "    if board[0] == board[4] == board[8] == player:\n",
    "        return True\n",
    "\n",
    "    return False    "
   ]
  },
  {
   "cell_type": "code",
   "execution_count": null,
   "metadata": {},
   "outputs": [],
   "source": [
    "# checking for a draw\n",
    "def check_draw(board):\n",
    "    if not any(space == \" \" for space in board) and not check_win(board, 'X') and not check_win(board, 'O'):\n",
    "        return True\n",
    "    else:\n",
    "        return False"
   ]
  },
  {
   "cell_type": "markdown",
   "metadata": {
    "id": "06WTByxMHFph"
   },
   "source": [
    "## Min-Max Algorithm\n",
    "\n",
    "\n",
    "Build the search game tree to determine the best move using:\n",
    "\n",
    "* the AI's strategy is to _maximise_ its score while the opponent's score minimises;\n",
    "* the human's strategy is to _minimise_ AI's score."
   ]
  },
  {
   "cell_type": "code",
   "execution_count": null,
   "metadata": {},
   "outputs": [],
   "source": [
    "import math\n",
    "def minimax(board, depth, maximizing_player):\n",
    "    # check if we have a winning state\n",
    "    if check_win(board, \"O\"):\n",
    "        return 1\n",
    "    if check_win(board, \"X\"):\n",
    "        return -1\n",
    "    if check_draw(board):\n",
    "        return 0\n",
    "    if depth >= 3:\n",
    "        return 0\n",
    "\n",
    "    if maximizing_player:\n",
    "        maxEval = -math.inf\n",
    "        for i in range(9):\n",
    "            if board[i] == \" \":\n",
    "                board[i] = \"O\"\n",
    "                eval = minimax(board, depth+1, False)\n",
    "                board[i] = \" \"\n",
    "                maxEval = max(maxEval, eval)\n",
    "        return maxEval\n",
    "    else:\n",
    "        minEval = math.inf\n",
    "        for i in range(9):\n",
    "            if board[i] == \" \":\n",
    "                board[i] = \"X\"\n",
    "                eval = minimax(board, depth+1, True)\n",
    "                board[i] = \" \"\n",
    "                minEval = min(minEval, eval)\n",
    "        return minEval"
   ]
  },
  {
   "cell_type": "markdown",
   "metadata": {
    "id": "06WTByxMHFph"
   },
   "source": [
    "Improve your algorithm with alpha-beta pruning "
   ]
  },
  {
   "cell_type": "code",
   "execution_count": 6,
   "metadata": {},
   "outputs": [],
   "source": [
    "def minimaxAB(board, depth, maximizing_player, alpha, beta):\n",
    "    if check_win(board, \"O\"):\n",
    "        return 1\n",
    "    if check_win(board, \"X\"):\n",
    "        return -1\n",
    "    if check_draw(board):\n",
    "        return 0\n",
    "    \n",
    "\n",
    "    if maximizing_player:\n",
    "        maxEval = -math.inf\n",
    "        for i in board:\n",
    "            if board[i] == \" \":\n",
    "                board[i] = \"X\"\n",
    "                eval = minimax(board, depth-1, alpha, beta, False)\n",
    "                board[i] = \" \"\n",
    "                maxEval = max(maxEval, eval)\n",
    "                alpha = max(alpha,eval)\n",
    "                if beta <= alpha:\n",
    "                    break\n",
    "        return maxEval\n",
    "    else:\n",
    "        minEval = math.inf\n",
    "        for i in board:\n",
    "            if board[i] == \" \":\n",
    "                eval = minimax(board, depth-1, alpha, beta, True)\n",
    "                board[i] = \" \"\n",
    "                minEval = min(minEval, eval)\n",
    "                beta = min(beta,eval)\n",
    "                if beta <= alpha:\n",
    "                    break\n",
    "        return minEval"
   ]
  },
  {
   "cell_type": "code",
   "execution_count": 7,
   "metadata": {},
   "outputs": [],
   "source": [
    "# Function to find the best move using the minimax algorithm\n",
    "import math\n",
    "def best_move(board):\n",
    "    best_eval = float(\"-inf\")\n",
    "    best_move = -1\n",
    "    for i in range(9):\n",
    "        if board[i] == \" \":\n",
    "            board[i] = \"O\"\n",
    "            evaluation = minimax(board, 0, False) #or minimax(board, 0, False, -math.inf, math.inf)\n",
    "            board[i] = \" \"\n",
    "            if evaluation > best_eval:\n",
    "                best_eval = evaluation\n",
    "                best_move = i\n",
    "    return best_move"
   ]
  },
  {
   "cell_type": "code",
   "execution_count": 8,
   "metadata": {},
   "outputs": [
    {
     "name": "stdout",
     "output_type": "stream",
     "text": [
      "  |   |  \n",
      "---------\n",
      "  |   |  \n",
      "---------\n",
      "  |   |  \n"
     ]
    },
    {
     "ename": "ValueError",
     "evalue": "invalid literal for int() with base 10: ''",
     "output_type": "error",
     "traceback": [
      "\u001b[0;31m---------------------------------------------------------------------------\u001b[0m",
      "\u001b[0;31mValueError\u001b[0m                                Traceback (most recent call last)",
      "Cell \u001b[0;32mIn[8], line 4\u001b[0m\n\u001b[1;32m      2\u001b[0m \u001b[38;5;28;01mwhile\u001b[39;00m \u001b[38;5;28;01mTrue\u001b[39;00m:\n\u001b[1;32m      3\u001b[0m     display_board(board)\n\u001b[0;32m----> 4\u001b[0m     player_move \u001b[38;5;241m=\u001b[39m \u001b[38;5;28;43mint\u001b[39;49m\u001b[43m(\u001b[49m\u001b[38;5;28;43minput\u001b[39;49m\u001b[43m(\u001b[49m\u001b[38;5;124;43m\"\u001b[39;49m\u001b[38;5;124;43mEnter your move (0-8): \u001b[39;49m\u001b[38;5;124;43m\"\u001b[39;49m\u001b[43m)\u001b[49m\u001b[43m)\u001b[49m\n\u001b[1;32m      6\u001b[0m     \u001b[38;5;28;01mif\u001b[39;00m board[player_move] \u001b[38;5;241m!=\u001b[39m \u001b[38;5;124m\"\u001b[39m\u001b[38;5;124m \u001b[39m\u001b[38;5;124m\"\u001b[39m:\n\u001b[1;32m      7\u001b[0m         \u001b[38;5;28mprint\u001b[39m(\u001b[38;5;124m\"\u001b[39m\u001b[38;5;124mInvalid move. Try again.\u001b[39m\u001b[38;5;124m\"\u001b[39m)\n",
      "\u001b[0;31mValueError\u001b[0m: invalid literal for int() with base 10: ''"
     ]
    }
   ],
   "source": [
    "board = [\" \" for _ in range(9)]\n",
    "while True:\n",
    "    display_board(board)\n",
    "    player_move = int(input(\"Enter your move (0-8): \"))\n",
    "    \n",
    "    if board[player_move] != \" \":\n",
    "        print(\"Invalid move. Try again.\")\n",
    "        continue\n",
    "    \n",
    "    board[player_move] = \"X\"\n",
    "    \n",
    "    if check_win(board, \"X\"):\n",
    "        display_board(board)\n",
    "        print(\"You win!\")\n",
    "        break\n",
    "    \n",
    "    if check_draw(board):\n",
    "        display_board(board)\n",
    "        print(\"It's a draw!\")\n",
    "        break\n",
    "    \n",
    "    ai_move = best_move(board)\n",
    "    board[ai_move] = \"O\"\n",
    "    \n",
    "    if check_win(board, \"O\"):\n",
    "        display_board(board)\n",
    "        print(\"AI wins!\")\n",
    "        break\n",
    "    \n",
    "    if check_draw(board):\n",
    "        display_board(board)\n",
    "        print(\"It's a draw!\")\n",
    "        break"
   ]
  },
  {
   "cell_type": "markdown",
   "metadata": {},
   "source": [
    "Change the human player with a random player"
   ]
  },
  {
   "cell_type": "code",
   "execution_count": null,
   "metadata": {},
   "outputs": [
    {
     "name": "stdout",
     "output_type": "stream",
     "text": [
      "  |   |  \n",
      "---------\n",
      "  |   |  \n",
      "---------\n",
      "  |   |  \n",
      "O |   |  \n",
      "---------\n",
      "  |   |  \n",
      "---------\n",
      "  | X |  \n",
      "O | O |  \n",
      "---------\n",
      "  | X |  \n",
      "---------\n",
      "  | X |  \n",
      "O | O | O\n",
      "---------\n",
      "  | X |  \n",
      "---------\n",
      "  | X |  \n",
      "AI wins!\n"
     ]
    }
   ],
   "source": [
    "import random\n",
    "board = [\" \" for _ in range(9)]\n",
    "while True:\n",
    "    display_board(board)\n",
    "    player_move = random.randint(0,8)\n",
    "    \n",
    "    board[player_move] = \"X\"\n",
    "    \n",
    "    if check_win(board, \"X\"):\n",
    "        display_board(board)\n",
    "        print(\"You win!\")\n",
    "        break\n",
    "    \n",
    "    if check_draw(board):\n",
    "        display_board(board)\n",
    "        print(\"It's a draw!\")\n",
    "        break\n",
    "    \n",
    "    ai_move = best_move(board)\n",
    "    board[ai_move] = \"O\"\n",
    "    \n",
    "    if check_win(board, \"O\"):\n",
    "        display_board(board)\n",
    "        print(\"AI wins!\")\n",
    "        break\n",
    "    \n",
    "    if check_draw(board):\n",
    "        display_board(board)\n",
    "        print(\"It's a draw!\")\n",
    "        break"
   ]
  },
  {
   "cell_type": "markdown",
   "metadata": {},
   "source": [
    "Modify the minimax method so that it uses the depth parameter. Test how a depth of 3 compares to a player than can make moves until the game is over."
   ]
  },
  {
   "cell_type": "code",
   "execution_count": null,
   "metadata": {},
   "outputs": [],
   "source": []
  }
 ],
 "metadata": {
  "colab": {
   "collapsed_sections": [],
   "name": "Lab06_AI.ipynb",
   "provenance": []
  },
  "kernelspec": {
   "display_name": "Python 3",
   "language": "python",
   "name": "python3"
  },
  "language_info": {
   "codemirror_mode": {
    "name": "ipython",
    "version": 3
   },
   "file_extension": ".py",
   "mimetype": "text/x-python",
   "name": "python",
   "nbconvert_exporter": "python",
   "pygments_lexer": "ipython3",
   "version": "3.12.7"
  }
 },
 "nbformat": 4,
 "nbformat_minor": 1
}
